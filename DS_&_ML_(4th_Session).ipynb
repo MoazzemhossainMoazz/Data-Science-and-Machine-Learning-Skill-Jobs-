{
  "cells": [
    {
      "cell_type": "markdown",
      "metadata": {
        "id": "view-in-github",
        "colab_type": "text"
      },
      "source": [
        "<a href=\"https://colab.research.google.com/github/MoazzemhossainMoazz/Data-Science-and-Machine-Learning-Skill-Jobs-/blob/main/DS_%26_ML_(4th_Session).ipynb\" target=\"_parent\"><img src=\"https://colab.research.google.com/assets/colab-badge.svg\" alt=\"Open In Colab\"/></a>"
      ]
    },
    {
      "cell_type": "markdown",
      "metadata": {
        "id": "FKAGLL_e2v2m"
      },
      "source": [
        "#Storing Information Using Variable"
      ]
    },
    {
      "cell_type": "code",
      "execution_count": null,
      "metadata": {
        "id": "1sIgWlyyzqCB"
      },
      "outputs": [],
      "source": [
        "my_favorite_color = \"blue\""
      ]
    },
    {
      "cell_type": "code",
      "execution_count": null,
      "metadata": {
        "id": "yHDdU8362i_d"
      },
      "outputs": [],
      "source": [
        "my_favorite_color"
      ]
    },
    {
      "cell_type": "code",
      "execution_count": null,
      "metadata": {
        "id": "V-Vy21bc2lFD"
      },
      "outputs": [],
      "source": [
        "color1, color2, color3 = \"red\", \"green\", \"blue\""
      ]
    },
    {
      "cell_type": "code",
      "execution_count": null,
      "metadata": {
        "id": "rz_vCrKN5Snt"
      },
      "outputs": [],
      "source": [
        "color1"
      ]
    },
    {
      "cell_type": "code",
      "execution_count": null,
      "metadata": {
        "id": "XEMS3WAm5VDa"
      },
      "outputs": [],
      "source": [
        "color2"
      ]
    },
    {
      "cell_type": "code",
      "execution_count": null,
      "metadata": {
        "id": "E44lZzsR5V7D"
      },
      "outputs": [],
      "source": [
        "color3"
      ]
    },
    {
      "cell_type": "code",
      "execution_count": null,
      "metadata": {
        "id": "24-NptR75WmL"
      },
      "outputs": [],
      "source": [
        "color4 = color5 = color6 = \"magenta\""
      ]
    },
    {
      "cell_type": "code",
      "execution_count": null,
      "metadata": {
        "id": "JDvTkDSd5ew6"
      },
      "outputs": [],
      "source": [
        "color5"
      ]
    },
    {
      "cell_type": "code",
      "execution_count": null,
      "metadata": {
        "id": "AJdrM80Y5gnr"
      },
      "outputs": [],
      "source": [
        "my_favorite_color = \"green\""
      ]
    },
    {
      "cell_type": "code",
      "execution_count": null,
      "metadata": {
        "id": "tns5ZwiI5pCb"
      },
      "outputs": [],
      "source": [
        "my_favorite_color = \"blue\""
      ]
    },
    {
      "cell_type": "code",
      "execution_count": null,
      "metadata": {
        "id": "fH-6lvPZ5sJ8"
      },
      "outputs": [],
      "source": [
        "my_favorite_color"
      ]
    },
    {
      "cell_type": "code",
      "execution_count": null,
      "metadata": {
        "id": "TE94q1qp5vJ0"
      },
      "outputs": [],
      "source": [
        "x = 10"
      ]
    },
    {
      "cell_type": "code",
      "execution_count": null,
      "metadata": {
        "id": "XkCsseqk6UWz"
      },
      "outputs": [],
      "source": [
        "x = x+1"
      ]
    },
    {
      "cell_type": "code",
      "execution_count": null,
      "metadata": {
        "id": "ig2E2_Z46Vo7"
      },
      "outputs": [],
      "source": [
        "x"
      ]
    },
    {
      "cell_type": "code",
      "execution_count": null,
      "metadata": {
        "id": "BkmJv4m56WaC"
      },
      "outputs": [],
      "source": [
        "counter = 10"
      ]
    },
    {
      "cell_type": "code",
      "execution_count": null,
      "metadata": {
        "id": "M5Iue8-V6ZA7"
      },
      "outputs": [],
      "source": [
        "counter = counter + 1"
      ]
    },
    {
      "cell_type": "code",
      "execution_count": null,
      "metadata": {
        "id": "nbOO-NZr6dZT"
      },
      "outputs": [],
      "source": [
        "counter +=4"
      ]
    },
    {
      "cell_type": "code",
      "execution_count": null,
      "metadata": {
        "id": "AFN-q6ip6d_T"
      },
      "outputs": [],
      "source": [
        "counter"
      ]
    },
    {
      "cell_type": "code",
      "source": [
        "my_hourly_payment = 10"
      ],
      "metadata": {
        "id": "CCQ5AX4GIi5t"
      },
      "execution_count": null,
      "outputs": []
    },
    {
      "cell_type": "code",
      "source": [
        "hourlyPayment = 10 #camelCaseConvention\n",
        "HourlyPayment = 10 #PascalCaseConvention\n",
        "hourly_payment = 10 #snake_case_convention"
      ],
      "metadata": {
        "id": "L8x6cRGYIm9K"
      },
      "execution_count": null,
      "outputs": []
    },
    {
      "cell_type": "markdown",
      "source": [
        "#Some wrong variable\n"
      ],
      "metadata": {
        "id": "IHkvEUULJ5Bk"
      }
    },
    {
      "cell_type": "code",
      "source": [
        "a variable = 23 #wrong variable"
      ],
      "metadata": {
        "id": "9dFVbQePIody"
      },
      "execution_count": null,
      "outputs": []
    },
    {
      "cell_type": "code",
      "source": [
        "is_today_$aturday = False #wrong variable"
      ],
      "metadata": {
        "id": "xIV2bnuNIrYa"
      },
      "execution_count": null,
      "outputs": []
    },
    {
      "cell_type": "code",
      "source": [
        "my-favorite-car = \"Delorean\" #wrong variable"
      ],
      "metadata": {
        "id": "3J8JKSdAJlpz"
      },
      "execution_count": null,
      "outputs": []
    },
    {
      "cell_type": "code",
      "source": [
        "3_musketeers = [\"Athos\", \"Porthos\", \"Aramis\"]"
      ],
      "metadata": {
        "id": "YUaGKJxCJ1nl"
      },
      "execution_count": null,
      "outputs": []
    },
    {
      "cell_type": "markdown",
      "source": [
        "#Built in datatype"
      ],
      "metadata": {
        "id": "-UmoNOL2LbON"
      }
    },
    {
      "cell_type": "code",
      "source": [
        "a_variable = 23"
      ],
      "metadata": {
        "id": "Rd111hXbLYC8"
      },
      "execution_count": null,
      "outputs": []
    },
    {
      "cell_type": "code",
      "source": [
        "type(a_variable)"
      ],
      "metadata": {
        "id": "LIZzMS26LiRB"
      },
      "execution_count": null,
      "outputs": []
    },
    {
      "cell_type": "code",
      "source": [
        "type(23)"
      ],
      "metadata": {
        "id": "HbJO345NLmr5"
      },
      "execution_count": null,
      "outputs": []
    },
    {
      "cell_type": "code",
      "source": [
        "is_today_Saturday"
      ],
      "metadata": {
        "id": "aQZSdgzfLosj"
      },
      "execution_count": null,
      "outputs": []
    },
    {
      "cell_type": "code",
      "source": [
        "type(is_today_Saturday)"
      ],
      "metadata": {
        "id": "MWB4K3h7MHJL"
      },
      "execution_count": null,
      "outputs": []
    },
    {
      "cell_type": "code",
      "source": [
        "my_favorite_car"
      ],
      "metadata": {
        "id": "TxLfkRcNMJvy"
      },
      "execution_count": null,
      "outputs": []
    },
    {
      "cell_type": "code",
      "source": [
        "type(my_favorite_car)"
      ],
      "metadata": {
        "id": "wZElXQxaMLmi"
      },
      "execution_count": null,
      "outputs": []
    },
    {
      "cell_type": "code",
      "source": [
        "the_3_musketeers"
      ],
      "metadata": {
        "id": "plzC044JMRIC"
      },
      "execution_count": null,
      "outputs": []
    },
    {
      "cell_type": "markdown",
      "source": [
        "#Integer"
      ],
      "metadata": {
        "id": "4HHxDV2gQo3Q"
      }
    },
    {
      "cell_type": "code",
      "source": [
        "current_year = 2023"
      ],
      "metadata": {
        "id": "uamT1-v5QsNK"
      },
      "execution_count": null,
      "outputs": []
    },
    {
      "cell_type": "code",
      "source": [
        "current_year"
      ],
      "metadata": {
        "id": "bKFgTlCyQvha"
      },
      "execution_count": null,
      "outputs": []
    },
    {
      "cell_type": "code",
      "source": [
        "type(current_year)"
      ],
      "metadata": {
        "id": "B2dSO6RxQydb"
      },
      "execution_count": null,
      "outputs": []
    },
    {
      "cell_type": "code",
      "source": [
        "a_large_negative_number = -23374038374832934334234317348343"
      ],
      "metadata": {
        "id": "ElNbxmb_Q66l"
      },
      "execution_count": null,
      "outputs": []
    },
    {
      "cell_type": "code",
      "source": [
        "a_large_negative_number"
      ],
      "metadata": {
        "id": "U3y591_DQ75a"
      },
      "execution_count": null,
      "outputs": []
    },
    {
      "cell_type": "code",
      "source": [
        "type(a_large_negative_number)"
      ],
      "metadata": {
        "id": "NMdooJ4IQ9Wy"
      },
      "execution_count": null,
      "outputs": []
    },
    {
      "cell_type": "markdown",
      "source": [
        "#Float"
      ],
      "metadata": {
        "id": "E9ZWFSO8RHyL"
      }
    },
    {
      "cell_type": "code",
      "source": [
        "pi = 3.141592653589793238"
      ],
      "metadata": {
        "id": "9Z0QU33wQ_Za"
      },
      "execution_count": null,
      "outputs": []
    },
    {
      "cell_type": "code",
      "source": [
        "pi"
      ],
      "metadata": {
        "id": "NEOcs2XtRLY5"
      },
      "execution_count": null,
      "outputs": []
    },
    {
      "cell_type": "code",
      "source": [
        "type(pi)"
      ],
      "metadata": {
        "id": "UCM8mtdgRMcK"
      },
      "execution_count": null,
      "outputs": []
    },
    {
      "cell_type": "code",
      "source": [
        "a_number = 3.0"
      ],
      "metadata": {
        "id": "08p_S8XyRNiS"
      },
      "execution_count": null,
      "outputs": []
    },
    {
      "cell_type": "code",
      "source": [
        "type(a_number)"
      ],
      "metadata": {
        "id": "SEEek96kRQuB"
      },
      "execution_count": null,
      "outputs": []
    },
    {
      "cell_type": "code",
      "source": [
        "another_number = 5."
      ],
      "metadata": {
        "id": "C92a-33XRS26"
      },
      "execution_count": null,
      "outputs": []
    },
    {
      "cell_type": "code",
      "source": [
        "type(another_number)"
      ],
      "metadata": {
        "id": "eorsJG7sRawC"
      },
      "execution_count": null,
      "outputs": []
    },
    {
      "cell_type": "code",
      "source": [
        "one_hundredth = 1e-2"
      ],
      "metadata": {
        "id": "iqrhNOjvRdna"
      },
      "execution_count": null,
      "outputs": []
    },
    {
      "cell_type": "code",
      "source": [
        "one_hundredth"
      ],
      "metadata": {
        "id": "zrYnKwy-R49C",
        "colab": {
          "base_uri": "https://localhost:8080/"
        },
        "outputId": "d83a1199-d516-467f-e268-fa3d78f484a9"
      },
      "execution_count": null,
      "outputs": [
        {
          "output_type": "execute_result",
          "data": {
            "text/plain": [
              "0.01"
            ]
          },
          "metadata": {},
          "execution_count": 3
        }
      ]
    },
    {
      "cell_type": "code",
      "source": [
        "type(one_hundredth)"
      ],
      "metadata": {
        "id": "1wfIvoKlR7Ja",
        "colab": {
          "base_uri": "https://localhost:8080/"
        },
        "outputId": "cb44d1a7-b739-4539-d104-9ea73454f74c"
      },
      "execution_count": null,
      "outputs": [
        {
          "output_type": "execute_result",
          "data": {
            "text/plain": [
              "float"
            ]
          },
          "metadata": {},
          "execution_count": 4
        }
      ]
    },
    {
      "cell_type": "code",
      "source": [
        "avogadro_number = 6.02214076e23"
      ],
      "metadata": {
        "id": "3Zg_dBeLR9sK"
      },
      "execution_count": null,
      "outputs": []
    },
    {
      "cell_type": "code",
      "source": [
        "avogadro_number"
      ],
      "metadata": {
        "id": "slTesJxQSJk6",
        "colab": {
          "base_uri": "https://localhost:8080/"
        },
        "outputId": "c9451ac0-afe3-40c9-a2b1-4a5ca1092ee6"
      },
      "execution_count": null,
      "outputs": [
        {
          "output_type": "execute_result",
          "data": {
            "text/plain": [
              "6.02214076e+23"
            ]
          },
          "metadata": {},
          "execution_count": 6
        }
      ]
    },
    {
      "cell_type": "code",
      "source": [
        "type(avogadro_number)"
      ],
      "metadata": {
        "id": "xaTL-WpuSLA6",
        "colab": {
          "base_uri": "https://localhost:8080/"
        },
        "outputId": "4ffaae69-3685-47f4-93b3-b6b7763a8ca7"
      },
      "execution_count": null,
      "outputs": [
        {
          "output_type": "execute_result",
          "data": {
            "text/plain": [
              "float"
            ]
          },
          "metadata": {},
          "execution_count": 7
        }
      ]
    },
    {
      "cell_type": "code",
      "source": [
        "type(current_year)"
      ],
      "metadata": {
        "id": "uTHyOQauSOUK",
        "colab": {
          "base_uri": "https://localhost:8080/",
          "height": 175
        },
        "outputId": "fc7d751a-0a9a-4ee5-87d3-2db135dc9811"
      },
      "execution_count": null,
      "outputs": [
        {
          "output_type": "error",
          "ename": "NameError",
          "evalue": "ignored",
          "traceback": [
            "\u001b[0;31m---------------------------------------------------------------------------\u001b[0m",
            "\u001b[0;31mNameError\u001b[0m                                 Traceback (most recent call last)",
            "\u001b[0;32m<ipython-input-8-4c8a0d5f6438>\u001b[0m in \u001b[0;36m<cell line: 1>\u001b[0;34m()\u001b[0m\n\u001b[0;32m----> 1\u001b[0;31m \u001b[0mtype\u001b[0m\u001b[0;34m(\u001b[0m\u001b[0mcurrent_year\u001b[0m\u001b[0;34m)\u001b[0m\u001b[0;34m\u001b[0m\u001b[0;34m\u001b[0m\u001b[0m\n\u001b[0m",
            "\u001b[0;31mNameError\u001b[0m: name 'current_year' is not defined"
          ]
        }
      ]
    },
    {
      "cell_type": "code",
      "source": [
        "float(current_year)"
      ],
      "metadata": {
        "id": "PT6SIUtiSWFS"
      },
      "execution_count": null,
      "outputs": []
    },
    {
      "cell_type": "code",
      "source": [
        "float(a_large_negative_number)"
      ],
      "metadata": {
        "id": "DUBuiyD8Sbu6"
      },
      "execution_count": null,
      "outputs": []
    },
    {
      "cell_type": "code",
      "source": [
        "pi"
      ],
      "metadata": {
        "id": "DIxUycyXShI6"
      },
      "execution_count": null,
      "outputs": []
    },
    {
      "cell_type": "code",
      "source": [
        "int(pi)"
      ],
      "metadata": {
        "id": "TwjH7zxcSl3J"
      },
      "execution_count": null,
      "outputs": []
    },
    {
      "cell_type": "code",
      "source": [
        "int(avogadro_number)"
      ],
      "metadata": {
        "id": "SxhI7OwiSm56"
      },
      "execution_count": null,
      "outputs": []
    },
    {
      "cell_type": "code",
      "source": [
        "type(45 * 3.0)"
      ],
      "metadata": {
        "id": "VMhIiqctSrQC"
      },
      "execution_count": null,
      "outputs": []
    },
    {
      "cell_type": "code",
      "source": [
        "type(45 * 3)"
      ],
      "metadata": {
        "id": "XBwU9DjlS1QR"
      },
      "execution_count": null,
      "outputs": []
    },
    {
      "cell_type": "code",
      "source": [
        "type(10/2)"
      ],
      "metadata": {
        "id": "nNRE-Ol5S5ci"
      },
      "execution_count": null,
      "outputs": []
    },
    {
      "cell_type": "code",
      "source": [
        "type(10//2)"
      ],
      "metadata": {
        "id": "iYaJ4NB5S-CS"
      },
      "execution_count": null,
      "outputs": []
    },
    {
      "cell_type": "code",
      "source": [],
      "metadata": {
        "id": "kkJD-juDTAQ6"
      },
      "execution_count": null,
      "outputs": []
    },
    {
      "cell_type": "markdown",
      "source": [
        "#Boolean"
      ],
      "metadata": {
        "id": "FgiJQOgKTTJD"
      }
    },
    {
      "cell_type": "code",
      "source": [
        "is_today_Sunday = True"
      ],
      "metadata": {
        "id": "Pm6KjZRMTVe6"
      },
      "execution_count": null,
      "outputs": []
    },
    {
      "cell_type": "code",
      "source": [
        "is_today_Sunday"
      ],
      "metadata": {
        "id": "ltbwCqhlTZ46"
      },
      "execution_count": null,
      "outputs": []
    },
    {
      "cell_type": "code",
      "source": [
        "type(is_today_Sunday)"
      ],
      "metadata": {
        "id": "EVqjU7NwTfEJ"
      },
      "execution_count": null,
      "outputs": []
    },
    {
      "cell_type": "code",
      "source": [
        "5 + False"
      ],
      "metadata": {
        "id": "CPr5Gu30TkOT"
      },
      "execution_count": null,
      "outputs": []
    },
    {
      "cell_type": "code",
      "source": [
        "3. + True"
      ],
      "metadata": {
        "id": "jDKLVNWHTsoC"
      },
      "execution_count": null,
      "outputs": []
    },
    {
      "cell_type": "code",
      "source": [
        "bool(False)"
      ],
      "metadata": {
        "id": "cPgycHG9TwB6"
      },
      "execution_count": null,
      "outputs": []
    },
    {
      "cell_type": "code",
      "source": [
        "bool(0)"
      ],
      "metadata": {
        "id": "iK6_F_8pUAZK"
      },
      "execution_count": null,
      "outputs": []
    },
    {
      "cell_type": "code",
      "source": [
        "bool(0.0)"
      ],
      "metadata": {
        "id": "NoAgX5saUBY6"
      },
      "execution_count": null,
      "outputs": []
    },
    {
      "cell_type": "code",
      "source": [
        "bool(None)"
      ],
      "metadata": {
        "id": "qZoyGr0cUDpx"
      },
      "execution_count": null,
      "outputs": []
    },
    {
      "cell_type": "code",
      "source": [
        "bool(\"\")"
      ],
      "metadata": {
        "id": "zIk039gyUKqB"
      },
      "execution_count": null,
      "outputs": []
    },
    {
      "cell_type": "code",
      "source": [
        "bool([])"
      ],
      "metadata": {
        "id": "QTxhe3k1UMTi"
      },
      "execution_count": null,
      "outputs": []
    },
    {
      "cell_type": "code",
      "source": [
        "bool(())"
      ],
      "metadata": {
        "id": "Xcb-V-qNUPNp"
      },
      "execution_count": null,
      "outputs": []
    },
    {
      "cell_type": "code",
      "source": [
        "bool({})"
      ],
      "metadata": {
        "id": "rfxTVF4JUQ6B"
      },
      "execution_count": null,
      "outputs": []
    },
    {
      "cell_type": "code",
      "source": [
        "bool(set())"
      ],
      "metadata": {
        "id": "JdtUoQfAUTFC"
      },
      "execution_count": null,
      "outputs": []
    },
    {
      "cell_type": "code",
      "source": [
        "bool(range(0))"
      ],
      "metadata": {
        "id": "tZ8iP1ePUXQq"
      },
      "execution_count": null,
      "outputs": []
    },
    {
      "cell_type": "code",
      "source": [
        "bool(True), bool(1), bool(2.0), bool(\"hello\"), bool([1,2]), bool((2,3)), bool(range(10))"
      ],
      "metadata": {
        "id": "zKHkxnqaUY6q"
      },
      "execution_count": null,
      "outputs": []
    },
    {
      "cell_type": "code",
      "source": [
        "y = None"
      ],
      "metadata": {
        "id": "M12oR-5eUlpR"
      },
      "execution_count": null,
      "outputs": []
    },
    {
      "cell_type": "code",
      "source": [
        "y"
      ],
      "metadata": {
        "id": "9ywON80jUr7C"
      },
      "execution_count": null,
      "outputs": []
    },
    {
      "cell_type": "code",
      "source": [
        "net_profit = None"
      ],
      "metadata": {
        "id": "C494ZpJSUsTa"
      },
      "execution_count": null,
      "outputs": []
    },
    {
      "cell_type": "code",
      "source": [
        "nothing = None"
      ],
      "metadata": {
        "id": "d4CXaQjHU3_S"
      },
      "execution_count": null,
      "outputs": []
    },
    {
      "cell_type": "code",
      "source": [
        "type(nothing)"
      ],
      "metadata": {
        "id": "zg-fm4rvU5ky"
      },
      "execution_count": null,
      "outputs": []
    },
    {
      "cell_type": "markdown",
      "source": [
        "#String"
      ],
      "metadata": {
        "id": "iJ-tYyJIVfZc"
      }
    },
    {
      "cell_type": "code",
      "source": [
        "today = \"Saturday\""
      ],
      "metadata": {
        "id": "eYJxH18gU6sK"
      },
      "execution_count": null,
      "outputs": []
    },
    {
      "cell_type": "code",
      "source": [
        "print(today)"
      ],
      "metadata": {
        "id": "2ubyaPncVi9W",
        "colab": {
          "base_uri": "https://localhost:8080/"
        },
        "outputId": "d686a55a-4135-41c4-8bf5-a7da8bd9c6ba"
      },
      "execution_count": null,
      "outputs": [
        {
          "output_type": "stream",
          "name": "stdout",
          "text": [
            "Saturday\n"
          ]
        }
      ]
    },
    {
      "cell_type": "code",
      "source": [
        "type(today)"
      ],
      "metadata": {
        "id": "iOGoHyGXVkR6",
        "colab": {
          "base_uri": "https://localhost:8080/"
        },
        "outputId": "f7a8e317-2cd1-4524-a61f-9b98f3902c47"
      },
      "execution_count": null,
      "outputs": [
        {
          "output_type": "execute_result",
          "data": {
            "text/plain": [
              "str"
            ]
          },
          "metadata": {},
          "execution_count": 12
        }
      ]
    },
    {
      "cell_type": "code",
      "source": [
        "my_favorite_movie = \"One Flew over the Cuckoo's Nest\""
      ],
      "metadata": {
        "id": "5hWXoiT7VmDS"
      },
      "execution_count": null,
      "outputs": []
    },
    {
      "cell_type": "code",
      "source": [
        "my_favorite_movie"
      ],
      "metadata": {
        "id": "M4uD_guXWDT2",
        "colab": {
          "base_uri": "https://localhost:8080/",
          "height": 35
        },
        "outputId": "13a33465-de5f-4a93-8078-c385fdf72bdf"
      },
      "execution_count": null,
      "outputs": [
        {
          "output_type": "execute_result",
          "data": {
            "text/plain": [
              "\"One Flew over the Cuckoo's Nest\""
            ],
            "application/vnd.google.colaboratory.intrinsic+json": {
              "type": "string"
            }
          },
          "metadata": {},
          "execution_count": 14
        }
      ]
    },
    {
      "cell_type": "code",
      "source": [
        "another_pun = \"The first time I got a universal remote control, I thought to myself \\\"This changes everything\\\".\""
      ],
      "metadata": {
        "id": "IFg_5WwyWD9y"
      },
      "execution_count": null,
      "outputs": []
    },
    {
      "cell_type": "code",
      "source": [
        "another_pun"
      ],
      "metadata": {
        "id": "SLI1LHdlWsTy",
        "colab": {
          "base_uri": "https://localhost:8080/",
          "height": 35
        },
        "outputId": "46a71ed9-5741-4e84-f6aa-91eefc615eab"
      },
      "execution_count": null,
      "outputs": [
        {
          "output_type": "execute_result",
          "data": {
            "text/plain": [
              "'The first time I got a universal remote control, I thought to myself \"This changes everything\".'"
            ],
            "application/vnd.google.colaboratory.intrinsic+json": {
              "type": "string"
            }
          },
          "metadata": {},
          "execution_count": 16
        }
      ]
    },
    {
      "cell_type": "code",
      "source": [
        "line =  \"Son: \\\"Dad, can you tell me what a solar eclipse is?\\\" \\nDad: \\\"No sun.\""
      ],
      "metadata": {
        "id": "0D5tQ5dNWvMT"
      },
      "execution_count": null,
      "outputs": []
    },
    {
      "cell_type": "code",
      "source": [
        "print(line)"
      ],
      "metadata": {
        "colab": {
          "base_uri": "https://localhost:8080/"
        },
        "id": "tUSaKYewYzcx",
        "outputId": "4cb165ec-933b-4eb7-822e-59485fd3dee5"
      },
      "execution_count": null,
      "outputs": [
        {
          "output_type": "stream",
          "name": "stdout",
          "text": [
            "Son: \"Dad, can you tell me what a solar eclipse is?\" \n",
            "Dad: \"No sun.\n"
          ]
        }
      ]
    },
    {
      "cell_type": "code",
      "source": [
        "yet_another_pun = '''Son: \"Dad, can you tell me what a solar eclipse is?\"\n",
        "Dad: \"No sun.\"'''"
      ],
      "metadata": {
        "id": "KBBzkW9OY1Xt"
      },
      "execution_count": null,
      "outputs": []
    },
    {
      "cell_type": "code",
      "source": [
        "print(yet_another_pun)"
      ],
      "metadata": {
        "colab": {
          "base_uri": "https://localhost:8080/"
        },
        "id": "Xl6Vfu3uZR7M",
        "outputId": "44da3543-d310-4546-cff4-d47d02f0378f"
      },
      "execution_count": null,
      "outputs": [
        {
          "output_type": "stream",
          "name": "stdout",
          "text": [
            "Son: \"Dad, can you tell me what a solar eclipse is?\"\n",
            "Dad: \"No sun.\"\n"
          ]
        }
      ]
    },
    {
      "cell_type": "markdown",
      "source": [
        "#Multiline strings are best displayed using the print function."
      ],
      "metadata": {
        "id": "5jgf1V2BazCN"
      }
    },
    {
      "cell_type": "code",
      "source": [
        "print(yet_another_pun)"
      ],
      "metadata": {
        "colab": {
          "base_uri": "https://localhost:8080/"
        },
        "id": "O_6-ZrEiZXpM",
        "outputId": "4395de87-8836-492e-ee7c-362812faea41"
      },
      "execution_count": null,
      "outputs": [
        {
          "output_type": "stream",
          "name": "stdout",
          "text": [
            "Son: \"Dad, can you tell me what a solar eclipse is?\"\n",
            "Dad: \"No sun.\"\n"
          ]
        }
      ]
    },
    {
      "cell_type": "code",
      "source": [
        "print(a_music_pun)"
      ],
      "metadata": {
        "id": "n5su1UY6bHo1",
        "colab": {
          "base_uri": "https://localhost:8080/",
          "height": 175
        },
        "outputId": "c044d0f9-e1af-41dc-fa35-22cccb1747cf"
      },
      "execution_count": null,
      "outputs": [
        {
          "output_type": "error",
          "ename": "NameError",
          "evalue": "ignored",
          "traceback": [
            "\u001b[0;31m---------------------------------------------------------------------------\u001b[0m",
            "\u001b[0;31mNameError\u001b[0m                                 Traceback (most recent call last)",
            "\u001b[0;32m<ipython-input-22-fac10e06aa28>\u001b[0m in \u001b[0;36m<cell line: 1>\u001b[0;34m()\u001b[0m\n\u001b[0;32m----> 1\u001b[0;31m \u001b[0mprint\u001b[0m\u001b[0;34m(\u001b[0m\u001b[0ma_music_pun\u001b[0m\u001b[0;34m)\u001b[0m\u001b[0;34m\u001b[0m\u001b[0;34m\u001b[0m\u001b[0m\n\u001b[0m",
            "\u001b[0;31mNameError\u001b[0m: name 'a_music_pun' is not defined"
          ]
        }
      ]
    },
    {
      "cell_type": "markdown",
      "source": [
        "##You can check the length of a string using the len function."
      ],
      "metadata": {
        "id": "I_bSeswbnZuy"
      }
    },
    {
      "cell_type": "code",
      "source": [
        "my_favorite_movie"
      ],
      "metadata": {
        "colab": {
          "base_uri": "https://localhost:8080/",
          "height": 35
        },
        "id": "5dNeAsPqnddF",
        "outputId": "9b8ce765-ebc7-4daf-9649-6e323766d87d"
      },
      "execution_count": null,
      "outputs": [
        {
          "output_type": "execute_result",
          "data": {
            "text/plain": [
              "\"One Flew over the Cuckoo's Nest\""
            ],
            "application/vnd.google.colaboratory.intrinsic+json": {
              "type": "string"
            }
          },
          "metadata": {},
          "execution_count": 23
        }
      ]
    },
    {
      "cell_type": "code",
      "source": [
        "len(my_favorite_movie)"
      ],
      "metadata": {
        "colab": {
          "base_uri": "https://localhost:8080/"
        },
        "id": "vy5RuAKsnhSJ",
        "outputId": "3a67d5d7-4de3-4514-e183-88a6776b11c6"
      },
      "execution_count": null,
      "outputs": [
        {
          "output_type": "execute_result",
          "data": {
            "text/plain": [
              "31"
            ]
          },
          "metadata": {},
          "execution_count": 24
        }
      ]
    },
    {
      "cell_type": "markdown",
      "source": [
        "##Note that special characters like \\n and escaped characters like \\\" count as a single character, even though they are written and sometimes printed as two characters.\n"
      ],
      "metadata": {
        "id": "GJaLnusenk-t"
      }
    },
    {
      "cell_type": "code",
      "source": [
        "multiline_string = \"\"\"a\n",
        "b\"\"\""
      ],
      "metadata": {
        "id": "rH7ArcNonnyI"
      },
      "execution_count": null,
      "outputs": []
    },
    {
      "cell_type": "code",
      "source": [
        "len(multiline_string)\n"
      ],
      "metadata": {
        "colab": {
          "base_uri": "https://localhost:8080/"
        },
        "id": "zx5-vXmMnsXf",
        "outputId": "917c75be-a880-40d7-9a59-fb04273bcebf"
      },
      "execution_count": null,
      "outputs": [
        {
          "output_type": "execute_result",
          "data": {
            "text/plain": [
              "3"
            ]
          },
          "metadata": {},
          "execution_count": 26
        }
      ]
    },
    {
      "cell_type": "code",
      "source": [
        "print(multiline_string)"
      ],
      "metadata": {
        "colab": {
          "base_uri": "https://localhost:8080/"
        },
        "id": "aZLRuE9unu1m",
        "outputId": "3d9f5da9-3638-4df1-f86e-b75294f50c73"
      },
      "execution_count": null,
      "outputs": [
        {
          "output_type": "stream",
          "name": "stdout",
          "text": [
            "a\n",
            "b\n"
          ]
        }
      ]
    },
    {
      "cell_type": "markdown",
      "source": [
        "##A string can be converted into a list of characters using list function."
      ],
      "metadata": {
        "id": "-adkWzjqnzC2"
      }
    },
    {
      "cell_type": "code",
      "source": [
        "list(multiline_string)"
      ],
      "metadata": {
        "id": "-djmyesUnyDo",
        "outputId": "6a93bd8b-c8e5-435a-af33-d0fc0e19834e",
        "colab": {
          "base_uri": "https://localhost:8080/"
        }
      },
      "execution_count": null,
      "outputs": [
        {
          "output_type": "execute_result",
          "data": {
            "text/plain": [
              "['a', '\\n', 'b']"
            ]
          },
          "metadata": {},
          "execution_count": 28
        }
      ]
    },
    {
      "cell_type": "markdown",
      "source": [
        "##indexing notation.\n"
      ],
      "metadata": {
        "id": "GnnOLXeyULay"
      }
    },
    {
      "cell_type": "code",
      "source": [
        "today = \"Saturday\""
      ],
      "metadata": {
        "id": "wT9gpPZSUNgr"
      },
      "execution_count": null,
      "outputs": []
    },
    {
      "cell_type": "code",
      "source": [
        "today[4]"
      ],
      "metadata": {
        "colab": {
          "base_uri": "https://localhost:8080/",
          "height": 35
        },
        "id": "4A987Z24UVQe",
        "outputId": "76a31998-7bf7-46e7-d03b-d4087a40761f"
      },
      "execution_count": null,
      "outputs": [
        {
          "output_type": "execute_result",
          "data": {
            "text/plain": [
              "'r'"
            ],
            "application/vnd.google.colaboratory.intrinsic+json": {
              "type": "string"
            }
          },
          "metadata": {},
          "execution_count": 2
        }
      ]
    },
    {
      "cell_type": "code",
      "source": [
        "today[0]"
      ],
      "metadata": {
        "colab": {
          "base_uri": "https://localhost:8080/",
          "height": 35
        },
        "id": "TNK4Vp50UXhZ",
        "outputId": "5daa29b6-76f7-4ba3-b6c5-bc26be93750b"
      },
      "execution_count": null,
      "outputs": [
        {
          "output_type": "execute_result",
          "data": {
            "text/plain": [
              "'S'"
            ],
            "application/vnd.google.colaboratory.intrinsic+json": {
              "type": "string"
            }
          },
          "metadata": {},
          "execution_count": 3
        }
      ]
    },
    {
      "cell_type": "code",
      "source": [
        "today[3]"
      ],
      "metadata": {
        "colab": {
          "base_uri": "https://localhost:8080/",
          "height": 35
        },
        "id": "qbKRzlaJUZ_B",
        "outputId": "a000cc59-bed2-4c39-87e6-ecc6d8ba2130"
      },
      "execution_count": null,
      "outputs": [
        {
          "output_type": "execute_result",
          "data": {
            "text/plain": [
              "'u'"
            ],
            "application/vnd.google.colaboratory.intrinsic+json": {
              "type": "string"
            }
          },
          "metadata": {},
          "execution_count": 4
        }
      ]
    },
    {
      "cell_type": "code",
      "source": [
        "today[7]"
      ],
      "metadata": {
        "colab": {
          "base_uri": "https://localhost:8080/",
          "height": 35
        },
        "id": "d53_ZAbMUep_",
        "outputId": "ad3e80cd-60c2-458d-aac2-6f78deed7860"
      },
      "execution_count": null,
      "outputs": [
        {
          "output_type": "execute_result",
          "data": {
            "text/plain": [
              "'y'"
            ],
            "application/vnd.google.colaboratory.intrinsic+json": {
              "type": "string"
            }
          },
          "metadata": {},
          "execution_count": 5
        }
      ]
    },
    {
      "cell_type": "markdown",
      "source": [
        "##start:end range instead of a single index in []."
      ],
      "metadata": {
        "id": "D7McStOUU86k"
      }
    },
    {
      "cell_type": "code",
      "source": [
        "today"
      ],
      "metadata": {
        "colab": {
          "base_uri": "https://localhost:8080/",
          "height": 35
        },
        "id": "c7oIukJqVAK1",
        "outputId": "78eb9691-a42b-4680-a0b1-c9b9ec32780a"
      },
      "execution_count": null,
      "outputs": [
        {
          "output_type": "execute_result",
          "data": {
            "text/plain": [
              "'Saturday'"
            ],
            "application/vnd.google.colaboratory.intrinsic+json": {
              "type": "string"
            }
          },
          "metadata": {},
          "execution_count": 6
        }
      ]
    },
    {
      "cell_type": "code",
      "source": [
        "today[5:8]"
      ],
      "metadata": {
        "colab": {
          "base_uri": "https://localhost:8080/",
          "height": 35
        },
        "id": "tEBCmDePVENW",
        "outputId": "836f4785-f307-4eec-c099-e51e4098ae00"
      },
      "execution_count": null,
      "outputs": [
        {
          "output_type": "execute_result",
          "data": {
            "text/plain": [
              "'day'"
            ],
            "application/vnd.google.colaboratory.intrinsic+json": {
              "type": "string"
            }
          },
          "metadata": {},
          "execution_count": 7
        }
      ]
    },
    {
      "cell_type": "markdown",
      "source": [
        "##using the in operator."
      ],
      "metadata": {
        "id": "9diNHVjyVcke"
      }
    },
    {
      "cell_type": "code",
      "source": [
        "'day' in today"
      ],
      "metadata": {
        "colab": {
          "base_uri": "https://localhost:8080/"
        },
        "id": "dfEHSsk_Vgnv",
        "outputId": "03a68e4b-fe1e-43a4-d1bb-97d5252d5b9f"
      },
      "execution_count": null,
      "outputs": [
        {
          "output_type": "execute_result",
          "data": {
            "text/plain": [
              "True"
            ]
          },
          "metadata": {},
          "execution_count": 8
        }
      ]
    },
    {
      "cell_type": "code",
      "source": [
        "'Sun' in today"
      ],
      "metadata": {
        "id": "JJMTpWHvVlPZ",
        "outputId": "a034bbff-e861-4ff2-e584-348e79b1c9ad",
        "colab": {
          "base_uri": "https://localhost:8080/"
        }
      },
      "execution_count": null,
      "outputs": [
        {
          "output_type": "execute_result",
          "data": {
            "text/plain": [
              "False"
            ]
          },
          "metadata": {},
          "execution_count": 9
        }
      ]
    },
    {
      "cell_type": "code",
      "source": [],
      "metadata": {
        "id": "doGeacD2U3O9"
      },
      "execution_count": null,
      "outputs": []
    }
  ],
  "metadata": {
    "colab": {
      "provenance": [],
      "authorship_tag": "ABX9TyNjO5W1WL2mqy7SboYpxUYj",
      "include_colab_link": true
    },
    "kernelspec": {
      "display_name": "Python 3",
      "name": "python3"
    },
    "language_info": {
      "name": "python"
    }
  },
  "nbformat": 4,
  "nbformat_minor": 0
}